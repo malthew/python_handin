{
 "cells": [
  {
   "cell_type": "markdown",
   "metadata": {},
   "source": [
    "# 02-Exercise"
   ]
  },
  {
   "cell_type": "markdown",
   "metadata": {},
   "source": [
    "## 1."
   ]
  },
  {
   "cell_type": "markdown",
   "metadata": {},
   "source": [
    "### A."
   ]
  },
  {
   "cell_type": "code",
   "execution_count": 1,
   "metadata": {},
   "outputs": [
    {
     "name": "stdout",
     "output_type": "stream",
     "text": [
      "['id', 'first_name', 'last_name', 'email', 'gender', 'ip_address']\n",
      "['1', 'Jenny', 'Orgill', 'jorgill0@webmd.com', 'Agender', '99.231.134.62']\n",
      "['2', 'Scott', 'Pierrepont', 'spierrepont1@gov.uk', 'Genderqueer', '190.25.94.161']\n",
      "['3', 'Saudra', 'Yeend', 'syeend2@dion.ne.jp', 'Genderqueer', '150.210.224.147']\n",
      "['4', 'Astra', 'Purcell', 'apurcell3@guardian.co.uk', 'Agender', '66.145.56.208']\n",
      "['5', 'Benita', 'Stollery', 'bstollery4@tamu.edu', 'Agender', '29.67.213.21']\n",
      "['6', 'Gaultiero', 'Pods', 'gpods5@nifty.com', 'Agender', '167.164.140.223']\n",
      "['7', 'Elisa', 'Stuehmeier', 'estuehmeier6@csmonitor.com', 'Genderqueer', '73.250.201.68']\n",
      "['8', 'Benyamin', 'Blampy', 'bblampy7@slideshare.net', 'Bigender', '117.180.183.220']\n",
      "['9', 'Meara', 'Giroldi', 'mgiroldi8@nymag.com', 'Non-binary', '46.220.70.62']\n",
      "['10', 'Rockey', 'Siemons', 'rsiemons9@tripod.com', 'Genderqueer', '255.70.24.245']\n"
     ]
    }
   ],
   "source": [
    "# First function\n",
    "from modules import exercise1_module as m1\n",
    "\n",
    "file_path = '/home/jovyan/python_handin/modules/mock_data.csv'\n",
    "\n",
    "m1.print_file_content(file_path)"
   ]
  },
  {
   "cell_type": "markdown",
   "metadata": {},
   "source": [
    "### B."
   ]
  },
  {
   "cell_type": "code",
   "execution_count": 2,
   "metadata": {},
   "outputs": [
    {
     "name": "stdout",
     "output_type": "stream",
     "text": [
      "['id', 'first_name', 'last_name', 'email', 'gender', 'ip_address']\n",
      "['1', 'Jenny', 'Orgill', 'jorgill0@webmd.com', 'Agender', '99.231.134.62']\n",
      "['2', 'Scott', 'Pierrepont', 'spierrepont1@gov.uk', 'Genderqueer', '190.25.94.161']\n",
      "['3', 'Saudra', 'Yeend', 'syeend2@dion.ne.jp', 'Genderqueer', '150.210.224.147']\n",
      "['4', 'Astra', 'Purcell', 'apurcell3@guardian.co.uk', 'Agender', '66.145.56.208']\n",
      "['5', 'Benita', 'Stollery', 'bstollery4@tamu.edu', 'Agender', '29.67.213.21']\n",
      "['6', 'Gaultiero', 'Pods', 'gpods5@nifty.com', 'Agender', '167.164.140.223']\n",
      "['7', 'Elisa', 'Stuehmeier', 'estuehmeier6@csmonitor.com', 'Genderqueer', '73.250.201.68']\n",
      "['8', 'Benyamin', 'Blampy', 'bblampy7@slideshare.net', 'Bigender', '117.180.183.220']\n",
      "['9', 'Meara', 'Giroldi', 'mgiroldi8@nymag.com', 'Non-binary', '46.220.70.62']\n",
      "['10', 'Rockey', 'Siemons', 'rsiemons9@tripod.com', 'Genderqueer', '255.70.24.245']\n",
      "['11', 'Taryn', 'OHare', 'tohare2r@gnu.org', 'Genderfluid', '143.181.125.229']\n"
     ]
    }
   ],
   "source": [
    "#Second function\n",
    "from modules import exercise1_module as m1\n",
    "lst = ['11','Taryn','OHare','tohare2r@gnu.org','Genderfluid','143.181.125.229']\n",
    "\n",
    "m1.write_list_to_file(file_path, lst)\n",
    "m1.print_file_content(file_path)"
   ]
  },
  {
   "cell_type": "markdown",
   "metadata": {},
   "source": [
    "### C."
   ]
  },
  {
   "cell_type": "code",
   "execution_count": null,
   "metadata": {},
   "outputs": [],
   "source": []
  }
 ],
 "metadata": {
  "kernelspec": {
   "display_name": "Python 3",
   "language": "python",
   "name": "python3"
  },
  "language_info": {
   "codemirror_mode": {
    "name": "ipython",
    "version": 3
   },
   "file_extension": ".py",
   "mimetype": "text/x-python",
   "name": "python",
   "nbconvert_exporter": "python",
   "pygments_lexer": "ipython3",
   "version": "3.7.6"
  }
 },
 "nbformat": 4,
 "nbformat_minor": 4
}
